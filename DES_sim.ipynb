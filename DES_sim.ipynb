{
 "cells": [
  {
   "cell_type": "markdown",
   "metadata": {},
   "source": [
    "# DES\tsimulation\tassignment"
   ]
  },
  {
   "cell_type": "markdown",
   "metadata": {},
   "source": [
    "Rinske ....  \n",
    "Michael .....  \n",
    "Ruben Lanjouw, 12415049"
   ]
  },
  {
   "cell_type": "markdown",
   "metadata": {},
   "source": [
    "### 0 Imports"
   ]
  },
  {
   "cell_type": "code",
   "execution_count": 122,
   "metadata": {},
   "outputs": [],
   "source": [
    "import simpy\n",
    "import numpy as np\n",
    "import random\n",
    "import matplotlib.pyplot as plt\n",
    "import math\n",
    "import statistics"
   ]
  },
  {
   "cell_type": "markdown",
   "metadata": {},
   "source": [
    "### 1 Proof DES_queue"
   ]
  },
  {
   "cell_type": "code",
   "execution_count": 245,
   "metadata": {},
   "outputs": [],
   "source": [
    "def DES_queue(size, arrival_rate, service_rate, n, rate_prob=True, arrival_prob=True):\n",
    "    \"\"\"\n",
    "    size = number of customers\n",
    "    arrival_rate = rate of arrival of customers, lambda\n",
    "    service_rate = rate of service of customers, mu\n",
    "    n = number of servers\n",
    "    \"\"\"\n",
    "\n",
    "    env = simpy.Environment()\n",
    "    servers = simpy.Resource(env, capacity = n)\n",
    "\n",
    "    inter_arrival_times = []\n",
    "    service_times = []\n",
    "    waiting_times = []\n",
    "\n",
    "\n",
    "    def customer_processing(env, servers, arrival_rate, service_rate):\n",
    "        ''' Process the customer'''\n",
    "        arrival_time = env.now # time now\n",
    "\n",
    "        with servers.request() as request:\n",
    "            yield request  # wait untill the server is available\n",
    "            wait_time = env.now - arrival_time\n",
    "            waiting_times.append(wait_time)  # save the wait time\n",
    "            ds = random.expovariate(service_rate)\n",
    "            service_times.append(ds)\n",
    "            yield env.timeout(ds)\n",
    "\n",
    "    def customer_generator(env, size , servers, arrival_rate, service_rate):\n",
    "        ''' Generates a costumer after a delay of the arrival time and processes the customer  '''\n",
    "        # make numpy expovariate list\n",
    "        for i in range(size):\n",
    "            dt = random.expovariate(arrival_rate)\n",
    "            inter_arrival_times.append(dt)\n",
    "            yield env.timeout(dt) # wait for the next customer\n",
    "            costomer = customer_processing(env,servers,arrival_rate,service_rate)\n",
    "            env.process(costomer)\n",
    "\n",
    "    env.process(customer_generator(env, size, servers,arrival_rate,service_rate))\n",
    "\n",
    "    env.run()\n",
    "    \n",
    "    mean_interarrival = statistics.mean(inter_arrival_times)\n",
    "    mean_waiting = statistics.mean(waiting_times)\n",
    "    mean_service = statistics.mean(service_times)\n",
    "\n",
    "    return [mean_interarrival, mean_waiting, mean_service, waiting_times]\n"
   ]
  },
  {
   "cell_type": "markdown",
   "metadata": {},
   "source": [
    "### 2 Proof significance "
   ]
  },
  {
   "cell_type": "code",
   "execution_count": 123,
   "metadata": {},
   "outputs": [],
   "source": [
    "\n",
    "def calculate_expected_waiting_time(n, p, u):\n",
    "    # Bereken rho\n",
    "    if p >= 1:\n",
    "        return \"P DOES NOT WORK! DO NORMAL PLS :)\"\n",
    "    \n",
    "    hfirst_term = ((n * p ) ** n) / math.factorial(n)\n",
    "    \n",
    "    hsecond_term = (1 - p) * sum(((n * p) ** i) / math.factorial(i) for i in range(n))\n",
    "    hsecond_term += ((n * p) ** n) / math.factorial(n)\n",
    "    hsecond_term = 1 / hsecond_term\n",
    "    h = hfirst_term * hsecond_term\n",
    "    second_term1 = 1 / (1 - p)\n",
    "    second_term2 = 1 / (n * u)\n",
    "    expected_waiting_time = h * second_term1 * second_term2\n",
    "\n",
    "    return expected_waiting_time\n",
    "\n",
    "\n",
    "def calculate_DES(number_of_rounds, arrival_rate, service_rate, number_of_servers, number_of_customers):\n",
    "    results_waiting = []\n",
    "    for _ in range(number_of_rounds):\n",
    "        result = DES_queue(number_of_customers, arrival_rate, service_rate, number_of_servers, rate_prob=True, arrival_prob=True)\n",
    "        results_waiting.append(result[1])\n",
    "    # get avr over [_,x,_] \n",
    "    return np.mean(results_waiting), np.std(results_waiting), results_waiting\n"
   ]
  },
  {
   "cell_type": "markdown",
   "metadata": {},
   "source": [
    "### 3 Shortest Job First"
   ]
  },
  {
   "cell_type": "code",
   "execution_count": 356,
   "metadata": {},
   "outputs": [
    {
     "name": "stdout",
     "output_type": "stream",
     "text": [
      "[{'arrival': 0.016424444503438263, 'service': 3.2392389449385295}, {'arrival': 0.32070212479176907, 'service': 0.8270594214420467}]\n"
     ]
    },
    {
     "ename": "TypeError",
     "evalue": "'numpy.ndarray' object is not callable",
     "output_type": "error",
     "traceback": [
      "\u001b[1;31m---------------------------------------------------------------------------\u001b[0m",
      "\u001b[1;31mTypeError\u001b[0m                                 Traceback (most recent call last)",
      "Cell \u001b[1;32mIn[356], line 24\u001b[0m, in \u001b[0;36mDES_queue_SJF.<locals>.customer_processing\u001b[1;34m(env, queue, size)\u001b[0m\n\u001b[0;32m     23\u001b[0m \u001b[38;5;28mprint\u001b[39m(queue)\n\u001b[1;32m---> 24\u001b[0m shortest_job \u001b[38;5;241m=\u001b[39m \u001b[38;5;28;43mmin\u001b[39;49m\u001b[43m(\u001b[49m\u001b[43mqueue\u001b[49m\u001b[43m,\u001b[49m\u001b[43m \u001b[49m\u001b[43mkey\u001b[49m\u001b[38;5;241;43m=\u001b[39;49m\u001b[38;5;28;43;01mlambda\u001b[39;49;00m\u001b[43m \u001b[49m\u001b[43mx\u001b[49m\u001b[43m:\u001b[49m\u001b[43m \u001b[49m\u001b[43mx\u001b[49m\u001b[43m[\u001b[49m\u001b[38;5;124;43m\"\u001b[39;49m\u001b[38;5;124;43mservice\u001b[39;49m\u001b[38;5;124;43m\"\u001b[39;49m\u001b[43m]\u001b[49m\u001b[43m)\u001b[49m\n\u001b[0;32m     25\u001b[0m ds \u001b[38;5;241m=\u001b[39m shortest_job[\u001b[38;5;124m\"\u001b[39m\u001b[38;5;124mservice\u001b[39m\u001b[38;5;124m\"\u001b[39m]\n",
      "\u001b[1;31mTypeError\u001b[0m: 'numpy.ndarray' object is not callable",
      "\nThe above exception was the direct cause of the following exception:\n",
      "\u001b[1;31mTypeError\u001b[0m                                 Traceback (most recent call last)",
      "Cell \u001b[1;32mIn[356], line 58\u001b[0m\n\u001b[0;32m     54\u001b[0m     mean_service \u001b[38;5;241m=\u001b[39m statistics\u001b[38;5;241m.\u001b[39mmean(service_times)\n\u001b[0;32m     55\u001b[0m     \u001b[38;5;28;01mreturn\u001b[39;00m [mean_interarrival, mean_waiting, mean_service, waiting_times]\n\u001b[1;32m---> 58\u001b[0m \u001b[43mDES_queue_SJF\u001b[49m\u001b[43m(\u001b[49m\u001b[38;5;241;43m100\u001b[39;49m\u001b[43m,\u001b[49m\u001b[43m \u001b[49m\u001b[38;5;241;43m1\u001b[39;49m\u001b[43m,\u001b[49m\u001b[43m \u001b[49m\u001b[38;5;241;43m1\u001b[39;49m\u001b[43m,\u001b[49m\u001b[43m \u001b[49m\u001b[38;5;241;43m1\u001b[39;49m\u001b[43m)\u001b[49m\n",
      "Cell \u001b[1;32mIn[356], line 50\u001b[0m, in \u001b[0;36mDES_queue_SJF\u001b[1;34m(size, arrival_rate, service_rate, n)\u001b[0m\n\u001b[0;32m     48\u001b[0m env\u001b[38;5;241m.\u001b[39mprocess(customer_generator(env, size,arrival_rate,service_rate, queue))\n\u001b[0;32m     49\u001b[0m env\u001b[38;5;241m.\u001b[39mprocess(customer_processing(env, queue,size))\n\u001b[1;32m---> 50\u001b[0m \u001b[43menv\u001b[49m\u001b[38;5;241;43m.\u001b[39;49m\u001b[43mrun\u001b[49m\u001b[43m(\u001b[49m\u001b[43m)\u001b[49m\n\u001b[0;32m     52\u001b[0m mean_interarrival \u001b[38;5;241m=\u001b[39m statistics\u001b[38;5;241m.\u001b[39mmean(inter_arrival_times)\n\u001b[0;32m     53\u001b[0m mean_waiting \u001b[38;5;241m=\u001b[39m statistics\u001b[38;5;241m.\u001b[39mmean(waiting_times)\n",
      "File \u001b[1;32m~\\AppData\\Local\\Packages\\PythonSoftwareFoundation.Python.3.10_qbz5n2kfra8p0\\LocalCache\\local-packages\\Python310\\site-packages\\simpy\\core.py:246\u001b[0m, in \u001b[0;36mEnvironment.run\u001b[1;34m(self, until)\u001b[0m\n\u001b[0;32m    244\u001b[0m \u001b[38;5;28;01mtry\u001b[39;00m:\n\u001b[0;32m    245\u001b[0m     \u001b[38;5;28;01mwhile\u001b[39;00m \u001b[38;5;28;01mTrue\u001b[39;00m:\n\u001b[1;32m--> 246\u001b[0m         \u001b[38;5;28;43mself\u001b[39;49m\u001b[38;5;241;43m.\u001b[39;49m\u001b[43mstep\u001b[49m\u001b[43m(\u001b[49m\u001b[43m)\u001b[49m\n\u001b[0;32m    247\u001b[0m \u001b[38;5;28;01mexcept\u001b[39;00m StopSimulation \u001b[38;5;28;01mas\u001b[39;00m exc:\n\u001b[0;32m    248\u001b[0m     \u001b[38;5;28;01mreturn\u001b[39;00m exc\u001b[38;5;241m.\u001b[39margs[\u001b[38;5;241m0\u001b[39m]  \u001b[38;5;66;03m# == until.value\u001b[39;00m\n",
      "File \u001b[1;32m~\\AppData\\Local\\Packages\\PythonSoftwareFoundation.Python.3.10_qbz5n2kfra8p0\\LocalCache\\local-packages\\Python310\\site-packages\\simpy\\core.py:204\u001b[0m, in \u001b[0;36mEnvironment.step\u001b[1;34m(self)\u001b[0m\n\u001b[0;32m    202\u001b[0m exc \u001b[38;5;241m=\u001b[39m \u001b[38;5;28mtype\u001b[39m(event\u001b[38;5;241m.\u001b[39m_value)(\u001b[38;5;241m*\u001b[39mevent\u001b[38;5;241m.\u001b[39m_value\u001b[38;5;241m.\u001b[39margs)\n\u001b[0;32m    203\u001b[0m exc\u001b[38;5;241m.\u001b[39m__cause__ \u001b[38;5;241m=\u001b[39m event\u001b[38;5;241m.\u001b[39m_value\n\u001b[1;32m--> 204\u001b[0m \u001b[38;5;28;01mraise\u001b[39;00m exc\n",
      "\u001b[1;31mTypeError\u001b[0m: 'numpy.ndarray' object is not callable"
     ]
    }
   ],
   "source": [
    "def DES_queue_SJF(size, arrival_rate, service_rate, n):\n",
    "    \"\"\"\n",
    "    size = number of customers\n",
    "    arrival_rate = rate of arrival of customers, lambda\n",
    "    service_rate = rate of service of customers, mu\n",
    "    n = number of servers\n",
    "    \"\"\"\n",
    "    env = simpy.Environment()\n",
    "    servers = simpy.Resource(env, capacity = n)\n",
    "\n",
    "    inter_arrival_times = []\n",
    "    service_times = []\n",
    "    waiting_times = []\n",
    "\n",
    "\n",
    "    def customer_processing(env, queue, size):\n",
    "        ''' Process the customers with while loop checking for shortest job first'''\n",
    "        processed = 0\n",
    "        while processed < size:\n",
    "            if len(queue) == 0:\n",
    "                yield env.timeout(1)\n",
    "                continue\n",
    "            print(queue)\n",
    "            shortest_job = min(queue, key=lambda x: x[\"service\"])\n",
    "            ds = shortest_job[\"service\"]\n",
    "            queue.remove(shortest_job)\n",
    "            with servers.request() as request:\n",
    "                yield request\n",
    "                wait_time = env.now - shortest_job[\"arrival\"]\n",
    "                waiting_times.append(wait_time)\n",
    "                service_times.append(ds)\n",
    "                yield env.timeout(ds)\n",
    "            processed += 1\n",
    "\n",
    "\n",
    "    def customer_generator(env, size, arrival_rate, service_rate, queue):\n",
    "        ''' Generates a costumer after a delay of the arrival time and processes the customer  '''\n",
    "        # make \n",
    "\n",
    "        for i in range(size):\n",
    "            dt = random.expovariate(arrival_rate)\n",
    "            inter_arrival_times.append(dt)\n",
    "            yield env.timeout(dt) # wait for the next customer\n",
    "            ds = random.expovariate(service_rate)\n",
    "            queue.append({\"arrival\" : env.now, \"service\" : ds})\n",
    "\n",
    "    queue = []\n",
    "    env.process(customer_generator(env, size,arrival_rate,service_rate, queue))\n",
    "    env.process(customer_processing(env, queue,size))\n",
    "    env.run()\n",
    "    \n",
    "    mean_interarrival = statistics.mean(inter_arrival_times)\n",
    "    mean_waiting = statistics.mean(waiting_times)\n",
    "    mean_service = statistics.mean(service_times)\n",
    "    return [mean_interarrival, mean_waiting, mean_service, waiting_times]\n",
    "\n",
    "\n",
    "DES_queue_SJF(100, 1, 1, 1)"
   ]
  },
  {
   "cell_type": "code",
   "execution_count": null,
   "metadata": {},
   "outputs": [],
   "source": [
    "def DES_deter(size, arrival_rate, service_rate, n, method=\"deterministic\"):\n",
    "    \"\"\"\n",
    "    size = number of customers\n",
    "    arrival_rate = rate of arrival of customers, lambda\n",
    "    service_rate = rate of service of customers, mu\n",
    "    n = number of servers\n",
    "    \"\"\"\n",
    "\n",
    "    env = simpy.Environment()\n",
    "    servers = simpy.Resource(env, capacity = n)\n",
    "\n",
    "    inter_arrival_times = []\n",
    "    service_times = []\n",
    "    waiting_times = []\n",
    "\n",
    "\n",
    "    def customer_processing(env, servers, service_rate, method=\"deterministic\"):\n",
    "        ''' Process the customer'''\n",
    "        arrival_time = env.now # time now\n",
    "\n",
    "        with servers.request() as request:\n",
    "            yield request  # wait untill the server is available\n",
    "            wait_time = env.now - arrival_time\n",
    "            waiting_times.append(wait_time)  # save the wait time\n",
    "            if method==\"deterministic\":\n",
    "                ds = service_rate\n",
    "            if method==\"longtail\":\n",
    "                ds = 1 if random.random() < 0.75 else 5\n",
    "            else:\n",
    "                ds = random.expovariate(service_rate)\n",
    "            service_times.append(ds)\n",
    "            yield env.timeout(ds)\n",
    "\n",
    "    def customer_generator(env, size , servers, arrival_rate, service_rate, method):\n",
    "        ''' Generates a costumer after a delay of the arrival time and processes the customer  '''\n",
    "        # make numpy expovariate list\n",
    "        for i in range(size):\n",
    "            dt = random.expovariate(arrival_rate)\n",
    "            inter_arrival_times.append(dt)\n",
    "            yield env.timeout(dt) # wait for the next customer\n",
    "            costomer = customer_processing(env,servers,service_rate, method)\n",
    "            env.process(costomer)\n",
    "\n",
    "    env.process(customer_generator(env, size, servers,arrival_rate,service_rate, method))\n",
    "\n",
    "    env.run()\n",
    "    \n",
    "    mean_interarrival = statistics.mean(inter_arrival_times)\n",
    "    mean_waiting = statistics.mean(waiting_times)\n",
    "    mean_service = statistics.mean(service_times)\n",
    "\n",
    "    return [mean_interarrival, mean_waiting, mean_service, waiting_times]\n"
   ]
  },
  {
   "cell_type": "markdown",
   "metadata": {},
   "source": [
    "### Plots"
   ]
  },
  {
   "cell_type": "code",
   "execution_count": 323,
   "metadata": {},
   "outputs": [
    {
     "data": {
      "image/png": "[encoded data removed]",
      "text/plain": [
       "<Figure size 640x480 with 1 Axes>"
      ]
     },
     "metadata": {},
     "output_type": "display_data"
    }
   ],
   "source": [
    "nl = [1,2,4]\n",
    "u = 1\n",
    "p = np.linspace(0.1, 0.99, 30)\n",
    "for n in nl:\n",
    "    mean = []\n",
    "    lambd = u * p * n\n",
    "    for p_i in p:\n",
    "        lambd = u * p_i * n\n",
    "        results = []\n",
    "        # results2 = []\n",
    "        for _ in range(5):\n",
    "            result = DES_queue(10000, lambd, u, n)\n",
    "            results.append(np.std(result[3]))\n",
    "            # results2.append(result[1])\n",
    "        # avr.append(np.mean(results2))\n",
    "        mean.append(np.mean(results))\n",
    "    plt.plot(p, mean, label=f\"n={n}\")\n",
    "\n",
    "plt.legend()\n",
    "plt.xlabel(\"\\u03C1\")\n",
    "plt.ylabel(\"Standard deviation\")\n",
    "plt.show()\n",
    "\n",
    "# make the avr relative to mean"
   ]
  },
  {
   "cell_type": "code",
   "execution_count": 329,
   "metadata": {},
   "outputs": [
    {
     "name": "stdout",
     "output_type": "stream",
     "text": [
      "Finished round  0\n",
      "Finished round  100\n",
      "Finished round  200\n",
      "Finished round  300\n",
      "Finished round  400\n",
      "Finished round  500\n",
      "Finished round  600\n",
      "Finished round  700\n",
      "Finished round  800\n",
      "Finished round  900\n",
      "Finished for n =  1\n",
      "Finished round  0\n",
      "Finished round  100\n",
      "Finished round  200\n",
      "Finished round  300\n",
      "Finished round  400\n",
      "Finished round  500\n",
      "Finished round  600\n",
      "Finished round  700\n",
      "Finished round  800\n",
      "Finished round  900\n",
      "Finished for n =  2\n",
      "Finished round  0\n",
      "Finished round  100\n",
      "Finished round  200\n",
      "Finished round  300\n",
      "Finished round  400\n",
      "Finished round  500\n",
      "Finished round  600\n",
      "Finished round  700\n",
      "Finished round  800\n",
      "Finished round  900\n",
      "Finished for n =  4\n",
      "[0.23301240036041115, 0.09635991255477168, 0.03587415328346796]\n"
     ]
    }
   ],
   "source": [
    "# plot the mean waiting time for different number of servers with a confidence interval\n",
    "servers = [1,2,4]\n",
    "number_of_customers = 10000\n",
    "rho = 0.7\n",
    "mu = 10\n",
    "number_of_rounds = 1000\n",
    "means = []\n",
    "stds = []\n",
    "\n",
    "for n in servers:\n",
    "    results = []\n",
    "    lambd = (n * mu * rho)\n",
    "    for i in range(number_of_rounds):\n",
    "        result = DES_queue(number_of_customers, lambd, mu, n)\n",
    "        results.append(result[1])\n",
    "        if i % 100 == 0:\n",
    "            print(\"Finished round \", i)\n",
    "    mean = np.mean(results)\n",
    "    std = np.std(results)\n",
    "    means.append(mean)\n",
    "    stds.append(std)\n",
    "    print(\"Finished for n = \", n)\n",
    "\n",
    "print(means)\n"
   ]
  },
  {
   "cell_type": "code",
   "execution_count": 343,
   "metadata": {},
   "outputs": [
    {
     "data": {
      "image/png": "[encoded data removed]",
      "text/plain": [
       "<Figure size 640x480 with 1 Axes>"
      ]
     },
     "metadata": {},
     "output_type": "display_data"
    },
    {
     "name": "stdout",
     "output_type": "stream",
     "text": [
      "1 & 0.23301 & 0.198 & 0.268 & 0.23333 \\\\\n",
      "2 & 0.09636 & 0.079 & 0.114 & 0.09608 \\\\\n",
      "4 & 0.03587 & 0.028 & 0.044 & 0.03572 \\\\\n"
     ]
    }
   ],
   "source": [
    "# save the means for p  and save stds for p and n and mu\n",
    "np.save(\"means_p07_mu10_10000cust_1000times.npy\", means)\n",
    "np.save(\"stds_p07_mu10_10000cust_1000times.npy\", stds)\n",
    "\n",
    "# load them\n",
    "means1 = np.load(\"means_p07_mu10_10000cust_1000times.npy\")\n",
    "stds1 = np.load(\"stds_p07_mu10_10000cust_1000times.npy\")\n",
    "\n",
    "convi = 1.96\n",
    "# plot the mean waiting time for different number of servers with a confidence interval\n",
    "plt.errorbar(servers, means1, yerr=1.96*stds1, fmt='o', label=\"Estimated mean with 95% confidence interval\")\n",
    "plt.xlabel(\"Number of servers\")\n",
    "plt.ylabel(\"Average waiting time\")\n",
    "plt.grid()\n",
    "plt.legend()\n",
    "# only make the xticks the servers\n",
    "plt.xticks(servers)\n",
    "plt.show()\n",
    "\n",
    "\n",
    "# make latex table with range min, max 95 confidence intervals and average waiting times\n",
    "convi = 1.96\n",
    "for i in range(len(servers)):\n",
    "    print(f\"{servers[i]} & {means1[i]:.5f} & {means1[i] - convi*stds1[i]:.3f} & {means1[i] + convi*stds1[i]:.3f} & {calculate_expected_waiting_time(servers[i], 0.7, 10):.5f} \\\\\\\\\")"
   ]
  },
  {
   "cell_type": "code",
   "execution_count": 347,
   "metadata": {},
   "outputs": [
    {
     "ename": "TypeError",
     "evalue": "'numpy.ndarray' object is not callable",
     "output_type": "error",
     "traceback": [
      "\u001b[1;31m---------------------------------------------------------------------------\u001b[0m",
      "\u001b[1;31mTypeError\u001b[0m                                 Traceback (most recent call last)",
      "Cell \u001b[1;32mIn[345], line 23\u001b[0m, in \u001b[0;36mDES_queue_SJF.<locals>.customer_processing\u001b[1;34m(env, queue, size)\u001b[0m\n\u001b[0;32m     22\u001b[0m     \u001b[38;5;28;01mcontinue\u001b[39;00m\n\u001b[1;32m---> 23\u001b[0m shortest_job \u001b[38;5;241m=\u001b[39m \u001b[38;5;28;43mmin\u001b[39;49m\u001b[43m(\u001b[49m\u001b[43mqueue\u001b[49m\u001b[43m,\u001b[49m\u001b[43m \u001b[49m\u001b[43mkey\u001b[49m\u001b[38;5;241;43m=\u001b[39;49m\u001b[38;5;28;43;01mlambda\u001b[39;49;00m\u001b[43m \u001b[49m\u001b[43mx\u001b[49m\u001b[43m:\u001b[49m\u001b[43m \u001b[49m\u001b[43mx\u001b[49m\u001b[43m[\u001b[49m\u001b[38;5;124;43m\"\u001b[39;49m\u001b[38;5;124;43mservice\u001b[39;49m\u001b[38;5;124;43m\"\u001b[39;49m\u001b[43m]\u001b[49m\u001b[43m)\u001b[49m\n\u001b[0;32m     24\u001b[0m ds \u001b[38;5;241m=\u001b[39m shortest_job[\u001b[38;5;124m\"\u001b[39m\u001b[38;5;124mservice\u001b[39m\u001b[38;5;124m\"\u001b[39m]\n",
      "\u001b[1;31mTypeError\u001b[0m: 'numpy.ndarray' object is not callable",
      "\nThe above exception was the direct cause of the following exception:\n",
      "\u001b[1;31mTypeError\u001b[0m                                 Traceback (most recent call last)",
      "Cell \u001b[1;32mIn[347], line 14\u001b[0m\n\u001b[0;32m     12\u001b[0m lambd \u001b[38;5;241m=\u001b[39m (n \u001b[38;5;241m*\u001b[39m mu \u001b[38;5;241m*\u001b[39m rho_i)\n\u001b[0;32m     13\u001b[0m \u001b[38;5;28;01mfor\u001b[39;00m i \u001b[38;5;129;01min\u001b[39;00m \u001b[38;5;28mrange\u001b[39m(number_of_rounds):\n\u001b[1;32m---> 14\u001b[0m     resultSJF \u001b[38;5;241m=\u001b[39m \u001b[43mDES_queue_SJF\u001b[49m\u001b[43m(\u001b[49m\u001b[43mnumber_of_customers\u001b[49m\u001b[43m,\u001b[49m\u001b[43m \u001b[49m\u001b[43mlambd\u001b[49m\u001b[43m,\u001b[49m\u001b[43m \u001b[49m\u001b[43mmu\u001b[49m\u001b[43m,\u001b[49m\u001b[43m \u001b[49m\u001b[43mn\u001b[49m\u001b[43m)\u001b[49m\n\u001b[0;32m     15\u001b[0m     \u001b[38;5;28mprint\u001b[39m(resultSJF)\n\u001b[0;32m     16\u001b[0m     resultFIFO \u001b[38;5;241m=\u001b[39m DES_queue(number_of_customers, lambd, mu, n)\n",
      "Cell \u001b[1;32mIn[345], line 49\u001b[0m, in \u001b[0;36mDES_queue_SJF\u001b[1;34m(size, arrival_rate, service_rate, n)\u001b[0m\n\u001b[0;32m     47\u001b[0m env\u001b[38;5;241m.\u001b[39mprocess(customer_generator(env, size,arrival_rate,service_rate, queue))\n\u001b[0;32m     48\u001b[0m env\u001b[38;5;241m.\u001b[39mprocess(customer_processing(env, queue,size))\n\u001b[1;32m---> 49\u001b[0m \u001b[43menv\u001b[49m\u001b[38;5;241;43m.\u001b[39;49m\u001b[43mrun\u001b[49m\u001b[43m(\u001b[49m\u001b[43m)\u001b[49m\n\u001b[0;32m     51\u001b[0m mean_interarrival \u001b[38;5;241m=\u001b[39m statistics\u001b[38;5;241m.\u001b[39mmean(inter_arrival_times)\n\u001b[0;32m     52\u001b[0m mean_waiting \u001b[38;5;241m=\u001b[39m statistics\u001b[38;5;241m.\u001b[39mmean(waiting_times)\n",
      "File \u001b[1;32m~\\AppData\\Local\\Packages\\PythonSoftwareFoundation.Python.3.10_qbz5n2kfra8p0\\LocalCache\\local-packages\\Python310\\site-packages\\simpy\\core.py:246\u001b[0m, in \u001b[0;36mEnvironment.run\u001b[1;34m(self, until)\u001b[0m\n\u001b[0;32m    244\u001b[0m \u001b[38;5;28;01mtry\u001b[39;00m:\n\u001b[0;32m    245\u001b[0m     \u001b[38;5;28;01mwhile\u001b[39;00m \u001b[38;5;28;01mTrue\u001b[39;00m:\n\u001b[1;32m--> 246\u001b[0m         \u001b[38;5;28;43mself\u001b[39;49m\u001b[38;5;241;43m.\u001b[39;49m\u001b[43mstep\u001b[49m\u001b[43m(\u001b[49m\u001b[43m)\u001b[49m\n\u001b[0;32m    247\u001b[0m \u001b[38;5;28;01mexcept\u001b[39;00m StopSimulation \u001b[38;5;28;01mas\u001b[39;00m exc:\n\u001b[0;32m    248\u001b[0m     \u001b[38;5;28;01mreturn\u001b[39;00m exc\u001b[38;5;241m.\u001b[39margs[\u001b[38;5;241m0\u001b[39m]  \u001b[38;5;66;03m# == until.value\u001b[39;00m\n",
      "File \u001b[1;32m~\\AppData\\Local\\Packages\\PythonSoftwareFoundation.Python.3.10_qbz5n2kfra8p0\\LocalCache\\local-packages\\Python310\\site-packages\\simpy\\core.py:204\u001b[0m, in \u001b[0;36mEnvironment.step\u001b[1;34m(self)\u001b[0m\n\u001b[0;32m    202\u001b[0m exc \u001b[38;5;241m=\u001b[39m \u001b[38;5;28mtype\u001b[39m(event\u001b[38;5;241m.\u001b[39m_value)(\u001b[38;5;241m*\u001b[39mevent\u001b[38;5;241m.\u001b[39m_value\u001b[38;5;241m.\u001b[39margs)\n\u001b[0;32m    203\u001b[0m exc\u001b[38;5;241m.\u001b[39m__cause__ \u001b[38;5;241m=\u001b[39m event\u001b[38;5;241m.\u001b[39m_value\n\u001b[1;32m--> 204\u001b[0m \u001b[38;5;28;01mraise\u001b[39;00m exc\n",
      "\u001b[1;31mTypeError\u001b[0m: 'numpy.ndarray' object is not callable"
     ]
    }
   ],
   "source": [
    "# calculate the mean for the short job first and fifo and compare in plot\n",
    "number_of_customers = 10000\n",
    "rho = [0.3,0.5,0.7,0.9]\n",
    "mu = 10\n",
    "number_of_rounds = 10\n",
    "meansSJF = []\n",
    "meansFIFO = []\n",
    "n = 1\n",
    "for rho_i in rho:\n",
    "    resultsSJF = []\n",
    "    resultsFIFO = []\n",
    "    lambd = (n * mu * rho_i)\n",
    "    for i in range(number_of_rounds):\n",
    "        resultSJF = DES_queue_SJF(number_of_customers, lambd, mu, n)\n",
    "        print(resultSJF)\n",
    "        resultFIFO = DES_queue(number_of_customers, lambd, mu, n)\n",
    "        resultsSJF.append(resultSJF[1])\n",
    "        resultsFIFO.append(resultFIFO[1])\n",
    "        if i % 100 == 0:\n",
    "            print(\"Finished round \", i)\n",
    "    meanSJF = np.mean(resultsSJF)\n",
    "    meanFIFO = np.mean(resultsFIFO)\n",
    "    meansSJF.append(meanSJF)\n",
    "    meansFIFO.append(meanFIFO)\n",
    "    print(\"Finished for rho = \", rho_i)\n",
    "\n",
    "plt.plot(rho, meansSJF, label=\"Shortest job first\")\n",
    "plt.plot(rho, meansFIFO, label=\"First in first out\")\n",
    "plt.xlabel(\"\\u03C1\")    \n",
    "plt.ylabel(\"Average waiting time\")\n",
    "plt.legend()\n",
    "plt.show()\n"
   ]
  },
  {
   "cell_type": "code",
   "execution_count": null,
   "metadata": {},
   "outputs": [
    {
     "name": "stdout",
     "output_type": "stream",
     "text": [
      "Finished round  0\n",
      "Finished for n =  1\n",
      "Finished round  0\n",
      "Finished for n =  2\n",
      "Finished round  0\n",
      "Finished for n =  4\n",
      "[0.18527995818970966, 0.20146259244487202, 0.20310450843951872]\n"
     ]
    }
   ],
   "source": []
  },
  {
   "cell_type": "code",
   "execution_count": null,
   "metadata": {},
   "outputs": [
    {
     "name": "stdout",
     "output_type": "stream",
     "text": [
      "[[0.33560938753760733], [0.5497353642575166], [1.8951753735365913], [3.7192523412970915]]\n",
      "[[0.0722421446671127], [0.11966224845395498], [0.7304147477834172], [2.1617623482697024]]\n",
      "[0.40785153220472004, 0.6693976127114716, 2.6255901213200086, 5.881014689566793]\n"
     ]
    },
    {
     "data": {
      "image/png": "[encoded data removed]",
      "text/plain": [
       "<Figure size 640x480 with 1 Axes>"
      ]
     },
     "metadata": {},
     "output_type": "display_data"
    },
    {
     "name": "stdout",
     "output_type": "stream",
     "text": [
      "[0.21525663 0.21767246 0.38540747 0.58123573]\n"
     ]
    }
   ],
   "source": []
  }
 ],
 "metadata": {
  "kernelspec": {
   "display_name": "Python 3",
   "language": "python",
   "name": "python3"
  },
  "language_info": {
   "codemirror_mode": {
    "name": "ipython",
    "version": 3
   },
   "file_extension": ".py",
   "mimetype": "text/x-python",
   "name": "python",
   "nbconvert_exporter": "python",
   "pygments_lexer": "ipython3",
   "version": "3.10.11"
  }
 },
 "nbformat": 4,
 "nbformat_minor": 2
}
