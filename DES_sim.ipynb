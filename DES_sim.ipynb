{
 "cells": [
  {
   "cell_type": "markdown",
   "metadata": {},
   "source": [
    "# DES\tsimulation\tassignment"
   ]
  },
  {
   "cell_type": "markdown",
   "metadata": {},
   "source": [
    "### 0 Init"
   ]
  },
  {
   "cell_type": "code",
   "execution_count": 3,
   "metadata": {},
   "outputs": [],
   "source": [
    "import simpy\n",
    "import numpy as np\n",
    "import random\n",
    "import math\n",
    "import statistics"
   ]
  },
  {
   "cell_type": "code",
   "execution_count": 151,
   "metadata": {},
   "outputs": [],
   "source": [
    "def DES_queue(size, arrival_rate, service_rate, n, rate_prob=True, arrival_prob=True):\n",
    "    \"\"\"\n",
    "    size = number of customers\n",
    "    arrival_rate = rate of arrival of customers, lambda\n",
    "    service_rate = rate of service of customers, mu\n",
    "    n = number of servers\n",
    "    \"\"\"\n",
    "\n",
    "    env = simpy.Environment()\n",
    "    servers = simpy.Resource(env, capacity = n)\n",
    "\n",
    "    inter_arrival_times = []\n",
    "    service_times = []\n",
    "\n",
    "    waiting_times = []\n",
    "\n",
    "\n",
    "    def customer_processing(env, servers, arrival_rate, service_rate, rate_prob=True):\n",
    "        ''' Process the customer'''\n",
    "        arrival_time = env.now # time now\n",
    "\n",
    "        with servers.request() as request:\n",
    "            yield request  # wait untill the server is available\n",
    "            wait_time = env.now - arrival_time\n",
    "            waiting_times.append(wait_time)  # save the wait time\n",
    "            # Service time\n",
    "            if rate_prob:\n",
    "                ds = random.expovariate(service_rate)\n",
    "            else:\n",
    "                print(rate_prob)\n",
    "                ds = 1/service_rate\n",
    "            service_times.append(ds)\n",
    "            yield env.timeout(ds)\n",
    "\n",
    "    def customer_generator(env, size , servers, arrival_rate, service_rate, rate_prob=True, arrival_prob=True):\n",
    "        ''' Generates a costumer after a delay of the arrival time and processes the customer  '''\n",
    "        for i in range(size):\n",
    "            if arrival_prob:\n",
    "                dt = random.expovariate(arrival_rate)\n",
    "            dt = random.expovariate(1/arrival_rate)\n",
    "            inter_arrival_times.append(dt)\n",
    "            yield env.timeout(dt) # wait for the next customer\n",
    "            costomer = customer_processing(env,servers,arrival_rate,service_rate, rate_prob=rate_prob)\n",
    "            env.process(costomer)\n",
    "\n",
    "    env.process(customer_generator(env, size, servers,arrival_rate,service_rate, arrival_prob=arrival_prob, rate_prob=rate_prob))\n",
    "\n",
    "    env.run()\n",
    "    \n",
    "    mean_interarrival = statistics.mean(inter_arrival_times)\n",
    "    mean_waiting = statistics.mean(waiting_times)\n",
    "    mean_service = statistics.mean(service_times)\n",
    "\n",
    "    return [mean_interarrival, mean_waiting, mean_service]\n"
   ]
  },
  {
   "cell_type": "code",
   "execution_count": 152,
   "metadata": {},
   "outputs": [
    {
     "name": "stdout",
     "output_type": "stream",
     "text": [
      "{1: [0.42299248640018766, 0.49554090505874687, 0.42716874205149213, 0.5291645246472477, 0.5847233535315632, 0.46662843453840985, 0.4069830963198311, 0.5019233096816234, 0.470076753213057, 0.47340569554244344], 2: [0.42427998605544937, 0.5409636681272414, 0.45147218198331357, 0.5766094769312241, 0.4602297614062601, 0.4228522755319277, 0.47970114890730264, 0.5427055140428056, 0.45207484256017083, 0.5594678693302931], 4: [0.4753660452928766, 0.4600696396220215, 0.4862268323670575, 0.5155708617611499, 0.579341258222902, 0.5390701858317016, 0.46761173335728506, 0.5481760300953887, 0.4504452360074183, 0.533830395108866]}\n"
     ]
    }
   ],
   "source": [
    "size = 100 # number of customers in simulation\n",
    "system_load = 0.1 # p \n",
    "mu = 2 # service rate, capacity of the server\n",
    "servers = [1,2,4] # number of servers\n",
    "num_simulations = 10 # number of simulations\n",
    "\n",
    "def lamda(n):\n",
    "    return 1 / (n* system_load * mu)\n",
    "\n",
    "results = {1: [], 2: [], 4: []}\n",
    "results2 = {1: [], 2: [], 4: []}\n",
    "\n",
    "for n in servers:\n",
    "    for _ in range(num_simulations):\n",
    "        result = DES_queue(size, lamda(n), mu, n)\n",
    "        results[n].append(result[1])\n",
    "        results2[n].append(result[2])\n",
    "print(results2)"
   ]
  },
  {
   "cell_type": "code",
   "execution_count": null,
   "metadata": {},
   "outputs": [
    {
     "name": "stdout",
     "output_type": "stream",
     "text": [
      "Expected waiting time: 0.96078431372549\n",
      "Simulated waiting time: (0.9715244413236764, 0.09306533903149226)\n"
     ]
    }
   ],
   "source": [
    "import math\n",
    "\n",
    "def calculate_expected_waiting_time(n, p, u):\n",
    "    # Bereken rho\n",
    "    if p >= 1:\n",
    "        return \"P DOES NOT WORK! DO NORMAL PLS :)\"\n",
    "    \n",
    "    hfirst_term = ((n * p ) ** n) / math.factorial(n)\n",
    "    \n",
    "    hsecond_term = (1 - p) * sum(((n * p) ** i) / math.factorial(i) for i in range(n))\n",
    "    hsecond_term += ((n * p) ** n) / math.factorial(n)\n",
    "    hsecond_term = 1 / hsecond_term\n",
    "    h = hfirst_term * hsecond_term\n",
    "    second_term1 = 1 / (1 - p)\n",
    "    second_term2 = 1 / (n * u)\n",
    "    expected_waiting_time = h * second_term1 * second_term2\n",
    "\n",
    "    return expected_waiting_time\n",
    "\n",
    "\n",
    "def calculate_DES(number_of_rounds, arrival_rate, service_rate, number_of_servers, number_of_customers):\n",
    "    results_waiting = []\n",
    "    for _ in range(number_of_rounds):\n",
    "        result = DES_queue(number_of_customers, arrival_rate, service_rate, number_of_servers, rate_prob=True, arrival_prob=True)\n",
    "        results_waiting.append(result[1])\n",
    "    # get avr over [_,x,_] \n",
    "    return np.mean(results_waiting), np.std(results_waiting)\n",
    "\n",
    "lambd = 4\n",
    "n = 2 # number of servers\n",
    "u = 1 # service rate, capacity of the server\n",
    "number_of_rounds = 100\n",
    "number_of_customers = 1000\n",
    "p = lambd / (n * u)\n",
    "p= 0.7\n",
    "lambd = 1/ (n * p * u)\n",
    "\n",
    "result = calculate_expected_waiting_time(n,p,u)\n",
    "result2 = calculate_DES(number_of_rounds, lambd, u, n, 10000)\n",
    "print(\"Expected waiting time:\", result)\n",
    "print(\"Simulated waiting time:\", result2)\n"
   ]
  }
 ],
 "metadata": {
  "kernelspec": {
   "display_name": "Python 3",
   "language": "python",
   "name": "python3"
  },
  "language_info": {
   "codemirror_mode": {
    "name": "ipython",
    "version": 3
   },
   "file_extension": ".py",
   "mimetype": "text/x-python",
   "name": "python",
   "nbconvert_exporter": "python",
   "pygments_lexer": "ipython3",
   "version": "3.10.11"
  }
 },
 "nbformat": 4,
 "nbformat_minor": 2
}
