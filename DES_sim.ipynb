{
 "cells": [
  {
   "cell_type": "markdown",
   "metadata": {},
   "source": [
    "# DES\tsimulation\tassignment"
   ]
  },
  {
   "cell_type": "markdown",
   "metadata": {},
   "source": [
    "Rinske ....  \n",
    "Michael .....  \n",
    "Ruben Lanjouw, 12415049"
   ]
  },
  {
   "cell_type": "markdown",
   "metadata": {},
   "source": [
    "### 0 Imports"
   ]
  },
  {
   "cell_type": "code",
   "execution_count": 122,
   "metadata": {},
   "outputs": [],
   "source": [
    "import simpy\n",
    "import numpy as np\n",
    "import random\n",
    "import matplotlib.pyplot as plt\n",
    "import math\n",
    "import statistics"
   ]
  },
  {
   "cell_type": "markdown",
   "metadata": {},
   "source": [
    "### 1 Proof DES_queue"
   ]
  },
  {
   "cell_type": "code",
   "execution_count": 211,
   "metadata": {},
   "outputs": [],
   "source": [
    "def DES_queue(size, arrival_rate, service_rate, n, rate_prob=True, arrival_prob=True):\n",
    "    \"\"\"\n",
    "    size = number of customers\n",
    "    arrival_rate = rate of arrival of customers, lambda\n",
    "    service_rate = rate of service of customers, mu\n",
    "    n = number of servers\n",
    "    \"\"\"\n",
    "\n",
    "    env = simpy.Environment()\n",
    "    servers = simpy.Resource(env, capacity = n)\n",
    "\n",
    "    inter_arrival_times = []\n",
    "    service_times = []\n",
    "\n",
    "    waiting_times = []\n",
    "\n",
    "\n",
    "    def customer_processing(env, servers, arrival_rate, service_rate):\n",
    "        ''' Process the customer'''\n",
    "        arrival_time = env.now # time now\n",
    "\n",
    "        with servers.request() as request:\n",
    "            yield request  # wait untill the server is available\n",
    "            wait_time = env.now - arrival_time\n",
    "            waiting_times.append(wait_time)  # save the wait time\n",
    "            ds = random.expovariate(service_rate)\n",
    "            service_times.append(ds)\n",
    "            yield env.timeout(ds)\n",
    "\n",
    "    def customer_generator(env, size , servers, arrival_rate, service_rate):\n",
    "        ''' Generates a costumer after a delay of the arrival time and processes the customer  '''\n",
    "        # size is the number of customers\n",
    "        for i in range(size):\n",
    "            dt = random.expovariate(arrival_rate)\n",
    "            inter_arrival_times.append(dt)\n",
    "            yield env.timeout(dt) # wait for the next customer\n",
    "            costomer = customer_processing(env,servers,arrival_rate,service_rate)\n",
    "            env.process(costomer)\n",
    "\n",
    "    env.process(customer_generator(env, size, servers,arrival_rate,service_rate))\n",
    "\n",
    "    env.run()\n",
    "    \n",
    "    mean_interarrival = statistics.mean(inter_arrival_times)\n",
    "    mean_waiting = statistics.mean(waiting_times)\n",
    "    mean_service = statistics.mean(service_times)\n",
    "\n",
    "    return [mean_interarrival, mean_waiting, mean_service, waiting_times]\n"
   ]
  },
  {
   "cell_type": "markdown",
   "metadata": {},
   "source": [
    "### 2 Proof significance "
   ]
  },
  {
   "cell_type": "code",
   "execution_count": 123,
   "metadata": {},
   "outputs": [],
   "source": [
    "\n",
    "def calculate_expected_waiting_time(n, p, u):\n",
    "    # Bereken rho\n",
    "    if p >= 1:\n",
    "        return \"P DOES NOT WORK! DO NORMAL PLS :)\"\n",
    "    \n",
    "    hfirst_term = ((n * p ) ** n) / math.factorial(n)\n",
    "    \n",
    "    hsecond_term = (1 - p) * sum(((n * p) ** i) / math.factorial(i) for i in range(n))\n",
    "    hsecond_term += ((n * p) ** n) / math.factorial(n)\n",
    "    hsecond_term = 1 / hsecond_term\n",
    "    h = hfirst_term * hsecond_term\n",
    "    second_term1 = 1 / (1 - p)\n",
    "    second_term2 = 1 / (n * u)\n",
    "    expected_waiting_time = h * second_term1 * second_term2\n",
    "\n",
    "    return expected_waiting_time\n",
    "\n",
    "\n",
    "def calculate_DES(number_of_rounds, arrival_rate, service_rate, number_of_servers, number_of_customers):\n",
    "    results_waiting = []\n",
    "    for _ in range(number_of_rounds):\n",
    "        result = DES_queue(number_of_customers, arrival_rate, service_rate, number_of_servers, rate_prob=True, arrival_prob=True)\n",
    "        results_waiting.append(result[1])\n",
    "    # get avr over [_,x,_] \n",
    "    return np.mean(results_waiting), np.std(results_waiting), results_waiting\n"
   ]
  },
  {
   "cell_type": "markdown",
   "metadata": {},
   "source": [
    "### 3 Shortest Job First"
   ]
  },
  {
   "cell_type": "code",
   "execution_count": 167,
   "metadata": {},
   "outputs": [],
   "source": [
    "def DES_queue_SJF(size, arrival_rate, service_rate, n):\n",
    "    \"\"\"\n",
    "    size = number of customers\n",
    "    arrival_rate = rate of arrival of customers, lambda\n",
    "    service_rate = rate of service of customers, mu\n",
    "    n = number of servers\n",
    "    \"\"\"\n",
    "    env = simpy.Environment()\n",
    "    servers = simpy.Resource(env, capacity = n)\n",
    "\n",
    "    inter_arrival_times = []\n",
    "    service_times = []\n",
    "    waiting_times = []\n",
    "\n",
    "\n",
    "    def customer_processing(env, queue, size):\n",
    "        ''' Process the customers with while loop checking for shortest job first'''\n",
    "        processed = 0\n",
    "        while processed < size:\n",
    "            if len(queue) == 0:\n",
    "                yield env.timeout(0.1)\n",
    "                continue\n",
    "            shortest_job = min(queue, key=lambda x: x[\"service\"])\n",
    "            ds = shortest_job[\"service\"]\n",
    "            queue.remove(shortest_job)\n",
    "            with servers.request() as request:\n",
    "                yield request\n",
    "                wait_time = env.now - shortest_job[\"arrival\"]\n",
    "                waiting_times.append(wait_time)\n",
    "                service_times.append(ds)\n",
    "                yield env.timeout(ds)\n",
    "            processed += 1\n",
    "\n",
    "\n",
    "    def customer_generator(env, size, arrival_rate, service_rate, queue):\n",
    "        ''' Generates a costumer after a delay of the arrival time and processes the customer  '''\n",
    "        for i in range(size):\n",
    "            dt = random.expovariate(1/arrival_rate)\n",
    "            inter_arrival_times.append(dt)\n",
    "            yield env.timeout(dt) # wait for the next customer\n",
    "            ds = random.expovariate(1/service_rate)\n",
    "            queue.append({\"arrival\" : env.now, \"service\" : ds})\n",
    "\n",
    "    queue = []\n",
    "    env.process(customer_generator(env, size,arrival_rate,service_rate, queue))\n",
    "    env.process(customer_processing(env, queue,size))\n",
    "    env.run()\n",
    "    \n",
    "    mean_interarrival = statistics.mean(inter_arrival_times)\n",
    "    mean_waiting = statistics.mean(waiting_times)\n",
    "    mean_service = statistics.mean(service_times)\n",
    "    return [mean_interarrival, mean_waiting, mean_service, waiting_times]\n"
   ]
  },
  {
   "cell_type": "markdown",
   "metadata": {},
   "source": [
    "### Plots"
   ]
  },
  {
   "cell_type": "code",
   "execution_count": null,
   "metadata": {},
   "outputs": [
    {
     "name": "stdout",
     "output_type": "stream",
     "text": [
      "0.16088535766055603\n",
      "0.15789473684210525\n"
     ]
    }
   ],
   "source": [
    "n = 3\n",
    "u = 1\n",
    "p = 0.5\n",
    "lambd = u * p * n\n",
    "\n"
   ]
  },
  {
   "cell_type": "code",
   "execution_count": null,
   "metadata": {},
   "outputs": [
    {
     "name": "stdout",
     "output_type": "stream",
     "text": [
      "Finished round  0\n",
      "Finished for n =  1\n",
      "Finished round  0\n",
      "Finished for n =  2\n",
      "Finished round  0\n",
      "Finished for n =  4\n"
     ]
    },
    {
     "data": {
      "image/png": "[encoded data removed]",
      "text/plain": [
       "<Figure size 640x480 with 1 Axes>"
      ]
     },
     "metadata": {},
     "output_type": "display_data"
    },
    {
     "name": "stdout",
     "output_type": "stream",
     "text": [
      "[0.196446160638555, 0.3749595082667746, 0.41461904818027256]\n"
     ]
    }
   ],
   "source": [
    "# plot the mean waiting time for different number of servers with a confidence interval\n",
    "servers = [1,2,4]\n",
    "number_of_customers = 100000\n",
    "rho = 0.5\n",
    "mu = 1\n",
    "number_of_rounds = 100\n",
    "results = []\n",
    "means = []\n",
    "stds = []\n",
    "\n",
    "for n in servers:\n",
    "    lambd = (n * mu * rho)\n",
    "    for i in range(number_of_rounds):\n",
    "        result = DES_queue(number_of_customers, lambd, mu, n)\n",
    "        results.append(result[1])\n",
    "        if i % 100 == 0:\n",
    "            print(\"Finished round \", i)\n",
    "    mean = np.mean(results)\n",
    "    std = np.std(results)\n",
    "    means.append(mean)\n",
    "    stds.append(std)\n",
    "    print(\"Finished for n = \", n)\n",
    "\n",
    "\n",
    "plt.errorbar(servers, means, yerr=stds, fmt='o')\n",
    "plt.xlabel(\"Number of servers\")\n",
    "plt.ylabel(\"Mean waiting time\")\n",
    "plt.title(\"Mean waiting time for different number of servers\")\n",
    "plt.show()\n",
    "print(stds)\n",
    "\n"
   ]
  },
  {
   "cell_type": "code",
   "execution_count": null,
   "metadata": {},
   "outputs": [],
   "source": [
    "# how many iterations do we need to get the difference between the confidence interval for n = 1 p=0.5, mu =1 and n=2 p=0.5, mu = 1 to not be matching"
   ]
  },
  {
   "cell_type": "code",
   "execution_count": null,
   "metadata": {},
   "outputs": [
    {
     "name": "stdout",
     "output_type": "stream",
     "text": [
      "Finished round  0\n",
      "Finished for n =  1\n",
      "Finished round  0\n",
      "Finished for n =  2\n",
      "Finished round  0\n",
      "Finished for n =  4\n",
      "[0.18527995818970966, 0.20146259244487202, 0.20310450843951872]\n"
     ]
    }
   ],
   "source": [
    "results =[]\n",
    "means = []\n",
    "stds = []\n",
    "for n in servers:\n",
    "    lambd = (n * mu * rho)\n",
    "    for i in range(10):\n",
    "        result = DES_queue(number_of_customers, lambd, mu, n)\n",
    "        results.append(result[1])\n",
    "        if i % 100 == 0:\n",
    "            print(\"Finished round \", i)\n",
    "    mean = np.mean(results)\n",
    "    std = np.std(results)\n",
    "    means.append(mean)\n",
    "    stds.append(std)\n",
    "    print(\"Finished for n = \", n)\n",
    "\n",
    "print(stds)"
   ]
  },
  {
   "cell_type": "code",
   "execution_count": 151,
   "metadata": {},
   "outputs": [
    {
     "name": "stdout",
     "output_type": "stream",
     "text": [
      "[[0.33560938753760733], [0.5497353642575166], [1.8951753735365913], [3.7192523412970915]]\n",
      "[[0.0722421446671127], [0.11966224845395498], [0.7304147477834172], [2.1617623482697024]]\n",
      "[0.40785153220472004, 0.6693976127114716, 2.6255901213200086, 5.881014689566793]\n"
     ]
    },
    {
     "data": {
      "image/png": "[encoded data removed]",
      "text/plain": [
       "<Figure size 640x480 with 1 Axes>"
      ]
     },
     "metadata": {},
     "output_type": "display_data"
    },
    {
     "name": "stdout",
     "output_type": "stream",
     "text": [
      "[0.21525663 0.21767246 0.38540747 0.58123573]\n"
     ]
    }
   ],
   "source": [
    "# plot line so starting from 0.5 to 0.9 over p with confidence interval\n",
    "make_list =[]\n",
    "for item in means_p:\n",
    "    make_list.append(means_p[item])\n",
    "\n",
    "plt.plot(p_values, make_list)\n",
    "# add stdplain over it\n",
    "\n",
    "l2 = []\n",
    "for item in stds_p:\n",
    "    l2.append(stds_p[item])\n",
    "\n",
    "print(make_list)\n",
    "print(l2)\n",
    "mini = []\n",
    "maxi = []\n",
    "# add plain with std\n",
    "for item in range(len(make_list)):\n",
    "    mins = make_list[item][0] - l2[item][0]\n",
    "    maxs = make_list[item][0] + l2[item][0]  \n",
    "    mini.append(mins)\n",
    "    maxi.append(maxs) \n",
    "\n",
    "print(maxi)\n",
    "plt.fill_between(p_values, mini, maxi, alpha=0.5)\n",
    "plt.xlabel(\"p values\")\n",
    "plt.ylabel(\"Mean waiting time\")\n",
    "plt.title(\"Mean waiting time for different p values\")\n",
    "plt.show()\n",
    "\n",
    "# make list flat\n",
    "flat_list = [item for sublist in make_list for item in sublist]\n",
    "flat_list2 = [item for sublist in l2 for item in sublist]\n",
    "\n",
    "print(np.array(flat_list2)/np.array(flat_list))\n",
    "\n"
   ]
  }
 ],
 "metadata": {
  "kernelspec": {
   "display_name": "Python 3",
   "language": "python",
   "name": "python3"
  },
  "language_info": {
   "codemirror_mode": {
    "name": "ipython",
    "version": 3
   },
   "file_extension": ".py",
   "mimetype": "text/x-python",
   "name": "python",
   "nbconvert_exporter": "python",
   "pygments_lexer": "ipython3",
   "version": "3.10.11"
  }
 },
 "nbformat": 4,
 "nbformat_minor": 2
}
